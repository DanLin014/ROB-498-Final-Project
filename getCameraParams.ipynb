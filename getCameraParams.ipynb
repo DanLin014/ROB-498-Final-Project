{
 "cells": [
  {
   "cell_type": "code",
   "execution_count": 8,
   "id": "b8f51732",
   "metadata": {},
   "outputs": [],
   "source": [
    "from scipy.spatial import ConvexHull\n",
    "import numpy as np\n",
    "import os\n",
    "import cv2 as cv\n",
    "import open3d as o3d\n",
    "from matplotlib import pyplot as plt\n",
    "from scipy.io import savemat\n",
    "import glob"
   ]
  },
  {
   "cell_type": "code",
   "execution_count": 9,
   "id": "80f22430",
   "metadata": {},
   "outputs": [],
   "source": [
    "checkerboard = \"patients\\case_4\\day_1\\calib\\scene_1\\photo.jpg\"\n",
    "checkerboardDepth = \"patients\\case_4\\day_1\\calib\\scene_1\\depth_camera\\depth_camera_1.dat\"\n",
    "wound = \"patients\\case_4\\day_1\\data\\scene_1\\photo.jpg\"\n",
    "woundMask = \"patients\\case_4\\day_1\\data\\scene_1\\mask.png\"\n",
    "woundDepth = \"patients\\case_4\\day_1\\data\\scene_1\\depth_camera\\depth_camera_1.dat\""
   ]
  },
  {
   "cell_type": "code",
   "execution_count": 10,
   "id": "e67f0acb",
   "metadata": {
    "scrolled": true
   },
   "outputs": [
    {
     "name": "stdout",
     "output_type": "stream",
     "text": [
      "(4896, 3264)\n"
     ]
    }
   ],
   "source": [
    "# Defining the dimensions of checkerboard\n",
    "CHECKERBOARD = (7,8)\n",
    "criteria = (cv.TERM_CRITERIA_EPS + cv.TERM_CRITERIA_MAX_ITER, 30, 0.001)\n",
    " \n",
    "# Defining the world coordinates for 3D points\n",
    "objp = np.zeros((1, CHECKERBOARD[0] * CHECKERBOARD[1], 3), np.float32)\n",
    "objp[0,:,:2] = np.mgrid[0:CHECKERBOARD[0], 0:CHECKERBOARD[1]].T.reshape(-1, 2)\n",
    "prev_img_shape = None\n",
    "# Arrays to store object points and image points from all the images.\n",
    "objpoints = [] # 3d point in real world space\n",
    "\n",
    "imgpoints = [] # 2d points in image plane.\n",
    "\n",
    "file_pattern = \"photo.jpg\"\n",
    "\n",
    "root_directory = \"patients\"\n",
    "\n",
    "# Use glob to find files matching the pattern in subdirectories\n",
    "images = glob.glob(f\"{root_directory}/**/calib/**/{file_pattern}\", recursive=True)\n",
    "images = images[0:8] #No significant accuracy gains with > 10 calibration images\n",
    "for fname in images:\n",
    "    img = cv.imread(fname)\n",
    "    #down_width = 176\n",
    "    #down_height = 144\n",
    "    #down_points = (down_width, down_height)\n",
    "    #img = cv.resize(img, down_points, interpolation= cv.INTER_LINEAR)\n",
    "    gray = cv.cvtColor(img,cv.COLOR_BGR2GRAY)\n",
    "    # Find the chess board corners\n",
    "    # If desired number of corners are found in the image then ret = true\n",
    "    ret, corners = cv.findChessboardCorners(gray, CHECKERBOARD, cv.CALIB_CB_ADAPTIVE_THRESH + cv.CALIB_CB_FAST_CHECK + cv.CALIB_CB_NORMALIZE_IMAGE)\n",
    "    if ret == True:\n",
    "        objpoints.append(objp)\n",
    "        \n",
    "        corners2 = cv.cornerSubPix(gray, corners, (11,11),(-1,-1), criteria)\n",
    "        #corners2[:,:,0] = corners2[:,:,0] * 176 / 4896\n",
    "        #corners2[:,:,1] = corners2[:,:,1] * 144 / 3264\n",
    "        imgpoints.append(corners2)\n",
    " \n",
    "        img = cv.drawChessboardCorners(img, CHECKERBOARD, corners2, ret)\n",
    "     \n",
    "    #cv.imshow('img',img)\n",
    "    #cv.waitKey(0)\n",
    " \n",
    "cv.destroyAllWindows()\n",
    "print(gray.shape[::-1])\n",
    "h,w = img.shape[:2]\n",
    " \n",
    "\"\"\"\n",
    "Performing camera calibration by \n",
    "passing the value of known 3D points (objpoints)\n",
    "and corresponding pixel coordinates of the \n",
    "detected corners (imgpoints)\n",
    "\"\"\"\n",
    "ret, mtx, dist, rvecs, tvecs = cv.calibrateCamera(objpoints, imgpoints, gray.shape[::-1], None, None)"
   ]
  },
  {
   "cell_type": "code",
   "execution_count": null,
   "id": "25ef2c24",
   "metadata": {
    "scrolled": true
   },
   "outputs": [],
   "source": [
    "print(ret) # Objective function value\n",
    "print(mtx)    # Camera matrix\n",
    "print(dist)   # Distortion coefficients"
   ]
  },
  {
   "cell_type": "code",
   "execution_count": 13,
   "id": "99b40e6c",
   "metadata": {},
   "outputs": [],
   "source": [
    "##Scale factor applied to convert from png resolution to depth sensor\n",
    "mtx[0,0] = mtx[0,0] * 144/ 3264\n",
    "mtx[1,1] = mtx[1,1]* 144/ 3264\n",
    "#mtx[0,2] = 144/2\n",
    "#mtx[1,2] = 176/2"
   ]
  },
  {
   "cell_type": "code",
   "execution_count": 8,
   "id": "a1d5dcc7",
   "metadata": {},
   "outputs": [
    {
     "name": "stdout",
     "output_type": "stream",
     "text": [
      "[[7.56430355e+00 0.00000000e+00 2.26793937e+03]\n",
      " [0.00000000e+00 7.55689240e+00 1.36267939e+03]\n",
      " [0.00000000e+00 0.00000000e+00 1.00000000e+00]]\n"
     ]
    }
   ],
   "source": [
    "print(mtx)"
   ]
  },
  {
   "cell_type": "code",
   "execution_count": 14,
   "id": "a1eb4516",
   "metadata": {},
   "outputs": [
    {
     "name": "stdout",
     "output_type": "stream",
     "text": [
      "(144, 176, 3)\n",
      "13703874800.272175\n"
     ]
    }
   ],
   "source": [
    "##Point Cloud Plotting / Hull construction\n",
    "depthMap = np.loadtxt(woundDepth, comments='%')\n",
    "mask = cv.imread(woundMask)\n",
    "maskDown = cv.resize(mask, (176, 144))\n",
    "print(maskDown.shape)\n",
    "image = cv.imread(wound)\n",
    "#depthMap = (depthMap[0:144,:] + depthMap[144:288, :] + depthMap[288:432, :] + depthMap[432:576, :] + depthMap[576:720, :])/5\n",
    "depthMap = depthMap[432:576, :]\n",
    "#depthMap[maskDown[:,:,0] == 0] = 0\n",
    "#intrinsic = o3d.camera.PinholeCameraParameters(mtx)\n",
    "depth_image_o3d = o3d.geometry.Image(depthMap.astype(np.float32))\n",
    "o3d_camera_intrinsic = o3d.camera.PinholeCameraIntrinsic(4896, 3264, \n",
    "                                                          mtx[0,0], mtx[1,1], \n",
    "                                                          mtx[0,2] * 144/ 3264, mtx[1,2] * 176/4896)\n",
    "pointCloud = o3d.geometry.PointCloud.create_from_depth_image(depth_image_o3d, o3d_camera_intrinsic)\n",
    "#print(pointCloud.points)\n",
    "#cl, ind = pointCloud.remove_radius_outlier(nb_points= 1, radius=50)\n",
    "#inlier_cloud = cl.select_by_index(ind)\n",
    "#alpha = .03\n",
    "#mesh = o3d.geometry.TriangleMesh.create_from_point_cloud_alpha_shape(\n",
    "    #pointCloud, alpha)\n",
    "#mesh.compute_vertex_normals()\n",
    "hull = ConvexHull(np.asarray(pointCloud.points))\n",
    "print(hull.area)\n",
    "vis = o3d.visualization.Visualizer()\n",
    "vis.create_window(window_name='pointcloud', width=3000, height=2000)\n",
    "vis.add_geometry(pointCloud)\n",
    "vis.run()\n",
    "vis.destroy_window()\n",
    "#mdic = {\"a\": pointCloud, \"label\": \"experiment\"}\n",
    "#savemat(\"woundPC.mat\", mdic)\n"
   ]
  },
  {
   "cell_type": "code",
   "execution_count": null,
   "id": "b973d795",
   "metadata": {},
   "outputs": [],
   "source": [
    "##Internal Plotting\n",
    "fig = plt.figure()\n",
    "ax = fig.add_subplot(111,projection='3d')\n",
    "ax.scatter(pointCloud[:,:,0], pointCloud[:,:,1], pointCloud[:,:,2])\n",
    "plt.show()"
   ]
  },
  {
   "cell_type": "code",
   "execution_count": null,
   "id": "8f390e6c",
   "metadata": {
    "scrolled": true
   },
   "outputs": [],
   "source": [
    "##Debugging\n",
    "input_file = \"depth-mesh.ply\"\n",
    "pcd = o3d.io.read_point_cloud(input_file) # Read the point cloud\n",
    "point_cloud_in_numpy = np.asarray(pcd.points) \n",
    "point_cloud = point_cloud_in_numpy.reshape((144, 176, 3))\n",
    "x_new = np.multiply(point_cloud[:,:,0],mask)\n",
    "y_new = np.multiply(point_cloud[:,:,1],mask)\n",
    "z_new = np.multiply(point_cloud[:,:,2],mask)\n",
    "mdic = {\"a\": mask, \"label\": \"experiment\"}\n",
    "savemat(\"woundPC.mat\", mdic)"
   ]
  },
  {
   "cell_type": "code",
   "execution_count": null,
   "id": "13cdca76",
   "metadata": {},
   "outputs": [],
   "source": [
    "##Extra function used to sanity check point cloud construction\n",
    "def depth_map_to_point_cloud(depth_map, camera_matrix, mask_array=None):\n",
    "    # Get depth map shape\n",
    "    \n",
    "    height, width = depth_map.shape\n",
    "    print(depth_map.shape)\n",
    "    # Create 2D pixel grid\n",
    "    u, v = np.meshgrid(np.arange(width), np.arange(height))\n",
    "\n",
    "    # Homogeneous coordinates\n",
    "    homogenous_coords = np.vstack((u.flatten(), v.flatten(), np.ones_like(depth_map.flatten())))\n",
    "    # Inverse of the camera matrix\n",
    "    inv_camera_matrix = np.linalg.inv(camera_matrix)\n",
    "\n",
    "    # Transform pixel coordinates to normalized image coordinates\n",
    "    normalized_coords = np.dot(camera_matrix, homogenous_coords)\n",
    "\n",
    "    # Convert normalized image coordinates and depth to 3D coordinates\n",
    "    z_3d = depth_map.flatten()\n",
    "    #x_3d = normalized_coords[0] * z_3d\n",
    "    y_3d = normalized_coords[1] * z_3d\n",
    "    x_3d = (homogenous_coords[0] - camera_matrix[0,2]) * ( depth_map.flatten() / camera_matrix[0,0])\n",
    "    #y_3d = (homogenous_coords[1] - camera_matrix[1,2]) * ( depth_map.flatten() / camera_matrix[1,1])\n",
    "    #z_3d = depth_map.flatten()\n",
    "    # Stack 3D coordinates to form the point cloud\n",
    "    point_cloud = np.stack((x_3d, y_3d, z_3d), axis=-1)\n",
    "    print(point_cloud)\n",
    "    point_cloud = o3d.geometry.PointCloud.create_from_depth_image(depth_map, camera_matrix)\n",
    "    print(point_cloud)\n",
    "    if mask_array is not None:\n",
    "            point_cloud = np.ma.masked_where(mask_array[:,:,0] == 0, point_cloud)\n",
    "    \n",
    "    return point_cloud.reshape((height, width, 3))"
   ]
  },
  {
   "cell_type": "code",
   "execution_count": null,
   "id": "c9b02750",
   "metadata": {},
   "outputs": [],
   "source": [
    "def center_scale(img, dim,resize): \n",
    "    \"\"\"Returns center cropped image Args: img: image to be center cropped dim: dimensions (width, height) to be cropped \"\"\" \n",
    "    width, height = img.shape[1], img.shape[0] # process crop width and height for max available dimension \n",
    "    crop_width = dim[0]\n",
    "    crop_height = dim[1]\n",
    "    mid_x, mid_y = int(width/2), int(height/2) \n",
    "    cw2, ch2 = int(crop_width/2), int(crop_height/2) \n",
    "    crop_img = img[mid_y-ch2:mid_y+ch2, mid_x-cw2:mid_x+cw2] \n",
    "    cv.resize(mask, (512,512), interpolation= cv.INTER_LINEAR)\n",
    "    return crop_img"
   ]
  },
  {
   "cell_type": "code",
   "execution_count": null,
   "id": "94576c4a",
   "metadata": {},
   "outputs": [],
   "source": [
    "def mkdirs(newdir,mode=0o777):\n",
    "    try:\n",
    "        os.makedirs(newdir, mode)\n",
    "    except OSError as err:\n",
    "        return err"
   ]
  },
  {
   "cell_type": "code",
   "execution_count": null,
   "id": "1bc37928",
   "metadata": {},
   "outputs": [],
   "source": [
    "import shutil\n",
    "image_pattern = \"photo.jpg\"\n",
    "mask_pattern = \"mask.png\"\n",
    "# Specify the root directory where you want to search\n",
    "root_directory = \"patients\"\n",
    "\n",
    "# Use glob to find files matching the pattern in subdirectories\n",
    "print(f\"../{root_directory}/**/data/**/{image_pattern}\")\n",
    "images = glob.glob(f\"{root_directory}/**/data/**/{image_pattern}\", recursive=True)\n",
    "masks = glob.glob(f\"{root_directory}/**/data/**/{mask_pattern}\", recursive=True)\n",
    "print(masks)\n",
    "maskDest = \"HarDNet-MSEG-master/lib/TrainDataset/masksW\"\n",
    "mkdirs(maskDest)\n",
    "imgDest = \"HarDNet-MSEG-master/lib/TrainDataset/imagesW\"\n",
    "mkdirs(imgDest)\n",
    "for i in range(len(images)):\n",
    "    dest = maskDest + \"/entry\" + str(i)\n",
    "    print(dest)\n",
    "    shutil.copyfile(masks[i], maskDest)\n",
    "    dest = imgDest + \"/entry\" + str(i)\n",
    "    print(dest)\n",
    "    shutil.copyfile(images[i], imgDest)"
   ]
  }
 ],
 "metadata": {
  "kernelspec": {
   "display_name": "Python 3 (ipykernel)",
   "language": "python",
   "name": "python3"
  },
  "language_info": {
   "codemirror_mode": {
    "name": "ipython",
    "version": 3
   },
   "file_extension": ".py",
   "mimetype": "text/x-python",
   "name": "python",
   "nbconvert_exporter": "python",
   "pygments_lexer": "ipython3",
   "version": "3.10.13"
  }
 },
 "nbformat": 4,
 "nbformat_minor": 5
}
